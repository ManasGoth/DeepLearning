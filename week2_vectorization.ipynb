{
 "cells": [
  {
   "cell_type": "markdown",
   "metadata": {},
   "source": [
    " \n",
    " \\begin{align}\n",
    " Z = W^T \\times X + b \\\\\n",
    " \\end{align}\n",
    " "
   ]
  },
  {
   "cell_type": "code",
   "execution_count": 7,
   "metadata": {},
   "outputs": [],
   "source": [
    "import numpy as np\n",
    "import math"
   ]
  },
  {
   "cell_type": "markdown",
   "metadata": {},
   "source": [
    "### Vector version vs Non Vector version. "
   ]
  },
  {
   "cell_type": "code",
   "execution_count": 39,
   "metadata": {},
   "outputs": [
    {
     "name": "stdout",
     "output_type": "stream",
     "text": [
      "Vectorized\n",
      "The output of the dot product is 25004\n",
      "Total time taken is 2.607107 ms\n",
      "Non Vectorized\n",
      "The output of the dot product in 25004\n",
      "Total time taken is 117.004633 ms\n"
     ]
    }
   ],
   "source": [
    "import time \n",
    "\n",
    "a = np.random.rand(100000)\n",
    "b = np.random.rand(100000)\n",
    "c = 0 \n",
    "\n",
    "start = time.time()\n",
    "c = np.dot(a,b)\n",
    "stop = time.time()\n",
    "\n",
    "print(\"Vectorized\")\n",
    "print(\"The output of the dot product is %d\" % c)\n",
    "print(\"Total time taken is %f ms\"  % ((stop-start)*1000)  )\n",
    "\n",
    "c=0 \n",
    "start = time.time()\n",
    "for i in range(100000):\n",
    "    c += a[i]*b[i]\n",
    "stop = time.time()\n",
    "\n",
    "print(\"Non Vectorized\")\n",
    "print(\"The output of the dot product in %d\" % c)\n",
    "print(\"Total time taken is %f ms\"  % ((stop-start)*1000)  )\n",
    "    "
   ]
  },
  {
   "cell_type": "markdown",
   "metadata": {},
   "source": [
    "#### Neural Network Programming Guideline\n",
    "Whenever possible avoid explicit for-loops"
   ]
  },
  {
   "cell_type": "code",
   "execution_count": 10,
   "metadata": {},
   "outputs": [
    {
     "name": "stdout",
     "output_type": "stream",
     "text": [
      "[0.11052868 0.94697411 0.31234474 0.73764129 0.6444381 ]\n",
      "[[1.11686838]\n",
      " [2.5778974 ]\n",
      " [1.36662574]\n",
      " [2.09099763]\n",
      " [1.90491635]]\n",
      "[1.11686838 2.5778974  1.36662574 2.09099763 1.90491635]\n"
     ]
    }
   ],
   "source": [
    "# \n",
    "n = 5\n",
    "u = np.zeros((n,1))\n",
    "v = np.random.rand((n))\n",
    "\n",
    "print(v)\n",
    "for i in range(n):\n",
    "    u[i] = math.exp(v[i])\n",
    "print(u)    \n",
    "\n",
    "\n",
    "u = np.exp(v)    \n",
    "print(u)    "
   ]
  },
  {
   "cell_type": "code",
   "execution_count": null,
   "metadata": {},
   "outputs": [],
   "source": []
  }
 ],
 "metadata": {
  "kernelspec": {
   "display_name": "Python 3",
   "language": "python",
   "name": "python3"
  },
  "language_info": {
   "codemirror_mode": {
    "name": "ipython",
    "version": 3
   },
   "file_extension": ".py",
   "mimetype": "text/x-python",
   "name": "python",
   "nbconvert_exporter": "python",
   "pygments_lexer": "ipython3",
   "version": "3.7.0"
  }
 },
 "nbformat": 4,
 "nbformat_minor": 2
}
